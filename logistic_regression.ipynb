{
 "cells": [
  {
   "attachments": {},
   "cell_type": "markdown",
   "metadata": {},
   "source": [
    "## Linear Classifier using Logistic Regression"
   ]
  },
  {
   "cell_type": "code",
   "execution_count": 97,
   "metadata": {},
   "outputs": [],
   "source": [
    "# import libraries\n",
    "\n",
    "import pandas as pd\n",
    "import matplotlib.pyplot as plt\n",
    "import numpy as np\n",
    "import seaborn as sns\n",
    "from sklearn.linear_model import LogisticRegression\n",
    "from sklearn.model_selection import train_test_split"
   ]
  },
  {
   "cell_type": "code",
   "execution_count": 98,
   "metadata": {},
   "outputs": [],
   "source": [
    "loan_df = pd.read_csv(r'C:\\Users\\Joseph\\OneDrive\\Documents\\CFI\\Loan Default Prediction With Machine Learning\\data\\new_data\\data\\vehicle_loans_feat_1.csv', index_col='UNIQUEID')"
   ]
  },
  {
   "cell_type": "code",
   "execution_count": 99,
   "metadata": {},
   "outputs": [
    {
     "name": "stdout",
     "output_type": "stream",
     "text": [
      "<class 'pandas.core.frame.DataFrame'>\n",
      "Int64Index: 233154 entries, 420825 to 630213\n",
      "Data columns (total 30 columns):\n",
      " #   Column                               Non-Null Count   Dtype  \n",
      "---  ------                               --------------   -----  \n",
      " 0   DISBURSED_AMOUNT                     233154 non-null  float64\n",
      " 1   ASSET_COST                           233154 non-null  float64\n",
      " 2   LTV                                  233154 non-null  float64\n",
      " 3   MANUFACTURER_ID                      233154 non-null  int64  \n",
      " 4   EMPLOYMENT_TYPE                      233154 non-null  object \n",
      " 5   STATE_ID                             233154 non-null  int64  \n",
      " 6   AADHAR_FLAG                          233154 non-null  int64  \n",
      " 7   PAN_FLAG                             233154 non-null  int64  \n",
      " 8   VOTERID_FLAG                         233154 non-null  int64  \n",
      " 9   DRIVING_FLAG                         233154 non-null  int64  \n",
      " 10  PASSPORT_FLAG                        233154 non-null  int64  \n",
      " 11  PERFORM_CNS_SCORE                    233154 non-null  float64\n",
      " 12  PERFORM_CNS_SCORE_DESCRIPTION        233154 non-null  object \n",
      " 13  NEW_ACCTS_IN_LAST_SIX_MONTHS         233154 non-null  float64\n",
      " 14  DELINQUENT_ACCTS_IN_LAST_SIX_MONTHS  233154 non-null  float64\n",
      " 15  NO_OF_INQUIRIES                      233154 non-null  float64\n",
      " 16  LOAN_DEFAULT                         233154 non-null  int64  \n",
      " 17  AGE                                  233154 non-null  float64\n",
      " 18  AVERAGE_ACCT_AGE_MONTHS              233154 non-null  float64\n",
      " 19  CREDIT_HISTORY_LENGTH_MONTHS         233154 non-null  float64\n",
      " 20  DISBURSED_CAT                        233154 non-null  object \n",
      " 21  DISBURSAL_DIFFERENCE                 233154 non-null  float64\n",
      " 22  TOTAL_ACCTS                          233154 non-null  float64\n",
      " 23  TOTAL_ACTIVE_ACCTS                   233154 non-null  float64\n",
      " 24  TOTAL_OVERDUE_ACCTS                  233154 non-null  float64\n",
      " 25  TOTAL_CURRENT_BALANCE                233154 non-null  float64\n",
      " 26  TOTAL_SANCTIONED_AMOUNT              233154 non-null  float64\n",
      " 27  TOTAL_DISBURSED_AMOUNT               233154 non-null  float64\n",
      " 28  TOTAL_INSTAL_AMT                     233154 non-null  float64\n",
      " 29  OVERDUE_PCT                          233154 non-null  float64\n",
      "dtypes: float64(19), int64(8), object(3)\n",
      "memory usage: 55.1+ MB\n"
     ]
    }
   ],
   "source": [
    "loan_df.info()"
   ]
  },
  {
   "cell_type": "code",
   "execution_count": 100,
   "metadata": {},
   "outputs": [
    {
     "data": {
      "text/plain": [
       "MANUFACTURER_ID                   int64\n",
       "STATE_ID                          int64\n",
       "DISBURSED_CAT                    object\n",
       "PERFORM_CNS_SCORE_DESCRIPTION    object\n",
       "EMPLOYMENT_TYPE                  object\n",
       "dtype: object"
      ]
     },
     "execution_count": 100,
     "metadata": {},
     "output_type": "execute_result"
    }
   ],
   "source": [
    "# let's inspect the variable types of the categorical fields\n",
    "\n",
    "category_cols = ['MANUFACTURER_ID', 'STATE_ID', 'DISBURSED_CAT', 'PERFORM_CNS_SCORE_DESCRIPTION','EMPLOYMENT_TYPE']\n",
    "loan_df[category_cols].dtypes"
   ]
  },
  {
   "attachments": {},
   "cell_type": "markdown",
   "metadata": {},
   "source": [
    "I don't want to treat MANUFACTURER_ID and STATE_ID as integers. So, let's encode the categorical columns with the category data type."
   ]
  },
  {
   "cell_type": "code",
   "execution_count": 101,
   "metadata": {},
   "outputs": [
    {
     "data": {
      "text/plain": [
       "MANUFACTURER_ID                  category\n",
       "STATE_ID                         category\n",
       "DISBURSED_CAT                    category\n",
       "PERFORM_CNS_SCORE_DESCRIPTION    category\n",
       "EMPLOYMENT_TYPE                  category\n",
       "dtype: object"
      ]
     },
     "execution_count": 101,
     "metadata": {},
     "output_type": "execute_result"
    }
   ],
   "source": [
    "#convert to categorical type\n",
    "\n",
    "loan_df[category_cols] = loan_df[category_cols].astype('category')\n",
    "loan_df[category_cols].dtypes"
   ]
  },
  {
   "attachments": {},
   "cell_type": "markdown",
   "metadata": {},
   "source": [
    "Using these variables, I'll create a subset of loan_df and store it as a separate DataFrame loan_df_sml to keep the first model simple."
   ]
  },
  {
   "cell_type": "code",
   "execution_count": 102,
   "metadata": {},
   "outputs": [],
   "source": [
    "# create the subset loan_df_sml\n",
    "\n",
    "small_cols = ['STATE_ID', 'LTV', 'DISBURSED_CAT', 'PERFORM_CNS_SCORE', 'EMPLOYMENT_TYPE', 'LOAN_DEFAULT']\n",
    "loan_df_sml = loan_df[small_cols]"
   ]
  },
  {
   "cell_type": "code",
   "execution_count": 103,
   "metadata": {},
   "outputs": [
    {
     "name": "stdout",
     "output_type": "stream",
     "text": [
      "<class 'pandas.core.frame.DataFrame'>\n",
      "Int64Index: 233154 entries, 420825 to 630213\n",
      "Data columns (total 6 columns):\n",
      " #   Column             Non-Null Count   Dtype   \n",
      "---  ------             --------------   -----   \n",
      " 0   STATE_ID           233154 non-null  category\n",
      " 1   LTV                233154 non-null  float64 \n",
      " 2   DISBURSED_CAT      233154 non-null  category\n",
      " 3   PERFORM_CNS_SCORE  233154 non-null  float64 \n",
      " 4   EMPLOYMENT_TYPE    233154 non-null  category\n",
      " 5   LOAN_DEFAULT       233154 non-null  int64   \n",
      "dtypes: category(3), float64(2), int64(1)\n",
      "memory usage: 7.8 MB\n"
     ]
    }
   ],
   "source": [
    "loan_df_sml.info()"
   ]
  },
  {
   "attachments": {},
   "cell_type": "markdown",
   "metadata": {},
   "source": [
    "### Training/Test Split\n",
    "\n",
    "Before I fit (train) my basic linear model, I need to split the data into training and test sets"
   ]
  },
  {
   "cell_type": "code",
   "execution_count": 104,
   "metadata": {},
   "outputs": [],
   "source": [
    "# create two variables x and y to match the required parameters for train_test_split\n",
    "\n",
    "x = loan_df_sml.drop(['LOAN_DEFAULT'], axis=1)\n",
    "y = loan_df_sml['LOAN_DEFAULT']"
   ]
  },
  {
   "cell_type": "code",
   "execution_count": 105,
   "metadata": {},
   "outputs": [
    {
     "name": "stdout",
     "output_type": "stream",
     "text": [
      "x has 233154 rows and 5 columns\n",
      "y has 233154 rows\n"
     ]
    }
   ],
   "source": [
    "# check the rows and columns\n",
    "\n",
    "print(\"x has {0} rows and {1} columns\".format(x.shape[0], x.shape[1]))\n",
    "print(\"y has {0} rows\".format(y.count()))"
   ]
  },
  {
   "cell_type": "code",
   "execution_count": 106,
   "metadata": {},
   "outputs": [
    {
     "name": "stdout",
     "output_type": "stream",
     "text": [
      "<class 'pandas.core.frame.DataFrame'>\n",
      "Int64Index: 233154 entries, 420825 to 630213\n",
      "Data columns (total 5 columns):\n",
      " #   Column             Non-Null Count   Dtype   \n",
      "---  ------             --------------   -----   \n",
      " 0   STATE_ID           233154 non-null  category\n",
      " 1   LTV                233154 non-null  float64 \n",
      " 2   DISBURSED_CAT      233154 non-null  category\n",
      " 3   PERFORM_CNS_SCORE  233154 non-null  float64 \n",
      " 4   EMPLOYMENT_TYPE    233154 non-null  category\n",
      "dtypes: category(3), float64(2)\n",
      "memory usage: 6.0 MB\n"
     ]
    }
   ],
   "source": [
    "x.info()"
   ]
  },
  {
   "cell_type": "code",
   "execution_count": 107,
   "metadata": {},
   "outputs": [
    {
     "data": {
      "text/plain": [
       "dtype('int64')"
      ]
     },
     "execution_count": 107,
     "metadata": {},
     "output_type": "execute_result"
    }
   ],
   "source": [
    "y.dtype"
   ]
  },
  {
   "cell_type": "code",
   "execution_count": 108,
   "metadata": {},
   "outputs": [],
   "source": [
    "# create train_test_split\n",
    "\n",
    "x_train, x_test, y_train, y_test = train_test_split(x, y, test_size=0.2, random_state=42)"
   ]
  },
  {
   "attachments": {},
   "cell_type": "markdown",
   "metadata": {},
   "source": [
    "The train_test_split returns 4 output values:\n",
    "\n",
    "- x_train: the training rows without the target variable \n",
    "- x_test: the test rows without the target variable \n",
    "- y_train: the training rows, target variable only \n",
    "- y_test: the test rows, target variable only "
   ]
  },
  {
   "cell_type": "code",
   "execution_count": 109,
   "metadata": {},
   "outputs": [
    {
     "name": "stdout",
     "output_type": "stream",
     "text": [
      "x_train has 186523 rows and 5 columns\n",
      "x_test has 46631 rows and 5 columns\n",
      "y_train has 186523 rows\n",
      "y_test has 46631 rows\n"
     ]
    }
   ],
   "source": [
    "#check rows and columns\n",
    "\n",
    "print(\"x_train has {0} rows and {1} columns\".format(x_train.shape[0], x_train.shape[1]))\n",
    "print(\"x_test has {0} rows and {1} columns\".format(x_test.shape[0], x_test.shape[1]))\n",
    "print(\"y_train has {0} rows\".format(y_train.count()))\n",
    "print(\"y_test has {0} rows\".format(y_test.count()))"
   ]
  },
  {
   "attachments": {},
   "cell_type": "markdown",
   "metadata": {},
   "source": [
    "It looks like the number of rows and columns is what I would expect."
   ]
  },
  {
   "cell_type": "code",
   "execution_count": 110,
   "metadata": {},
   "outputs": [
    {
     "name": "stdout",
     "output_type": "stream",
     "text": [
      "<class 'pandas.core.frame.DataFrame'>\n",
      "Int64Index: 186523 entries, 633275 to 501520\n",
      "Data columns (total 5 columns):\n",
      " #   Column             Non-Null Count   Dtype   \n",
      "---  ------             --------------   -----   \n",
      " 0   STATE_ID           186523 non-null  category\n",
      " 1   LTV                186523 non-null  float64 \n",
      " 2   DISBURSED_CAT      186523 non-null  category\n",
      " 3   PERFORM_CNS_SCORE  186523 non-null  float64 \n",
      " 4   EMPLOYMENT_TYPE    186523 non-null  category\n",
      "dtypes: category(3), float64(2)\n",
      "memory usage: 4.8 MB\n"
     ]
    }
   ],
   "source": [
    "#x train info\n",
    "\n",
    "x_train.info()"
   ]
  },
  {
   "cell_type": "code",
   "execution_count": 111,
   "metadata": {},
   "outputs": [
    {
     "data": {
      "text/plain": [
       "UNIQUEID\n",
       "633275    1\n",
       "646002    0\n",
       "591252    0\n",
       "475736    0\n",
       "639478    0\n",
       "Name: LOAN_DEFAULT, dtype: int64"
      ]
     },
     "execution_count": 111,
     "metadata": {},
     "output_type": "execute_result"
    }
   ],
   "source": [
    "#y train info\n",
    "\n",
    "y_train.head()"
   ]
  },
  {
   "cell_type": "code",
   "execution_count": 112,
   "metadata": {},
   "outputs": [
    {
     "name": "stdout",
     "output_type": "stream",
     "text": [
      "<class 'pandas.core.frame.DataFrame'>\n",
      "Int64Index: 46631 entries, 617183 to 626383\n",
      "Data columns (total 5 columns):\n",
      " #   Column             Non-Null Count  Dtype   \n",
      "---  ------             --------------  -----   \n",
      " 0   STATE_ID           46631 non-null  category\n",
      " 1   LTV                46631 non-null  float64 \n",
      " 2   DISBURSED_CAT      46631 non-null  category\n",
      " 3   PERFORM_CNS_SCORE  46631 non-null  float64 \n",
      " 4   EMPLOYMENT_TYPE    46631 non-null  category\n",
      "dtypes: category(3), float64(2)\n",
      "memory usage: 1.2 MB\n"
     ]
    }
   ],
   "source": [
    "#x test info\n",
    "\n",
    "x_test.info()"
   ]
  },
  {
   "cell_type": "code",
   "execution_count": 113,
   "metadata": {},
   "outputs": [
    {
     "data": {
      "text/plain": [
       "UNIQUEID\n",
       "617183    1\n",
       "515702    0\n",
       "466872    0\n",
       "632384    0\n",
       "461426    0\n",
       "Name: LOAN_DEFAULT, dtype: int64"
      ]
     },
     "execution_count": 113,
     "metadata": {},
     "output_type": "execute_result"
    }
   ],
   "source": [
    "#y test info\n",
    "\n",
    "y_test.head()"
   ]
  },
  {
   "attachments": {},
   "cell_type": "markdown",
   "metadata": {},
   "source": [
    "All the train and test data has the correct columns. Now, let's check the distribution of the class variable."
   ]
  },
  {
   "cell_type": "code",
   "execution_count": 114,
   "metadata": {},
   "outputs": [
    {
     "data": {
      "text/plain": [
       "0    0.783099\n",
       "1    0.216901\n",
       "Name: LOAN_DEFAULT, dtype: float64"
      ]
     },
     "execution_count": 114,
     "metadata": {},
     "output_type": "execute_result"
    }
   ],
   "source": [
    "#check the training target variable\n",
    "\n",
    "y_train.value_counts(normalize=True)"
   ]
  },
  {
   "cell_type": "code",
   "execution_count": 115,
   "metadata": {},
   "outputs": [
    {
     "data": {
      "text/plain": [
       "0    0.782248\n",
       "1    0.217752\n",
       "Name: LOAN_DEFAULT, dtype: float64"
      ]
     },
     "execution_count": 115,
     "metadata": {},
     "output_type": "execute_result"
    }
   ],
   "source": [
    "#check the test target variable\n",
    "\n",
    "y_test.value_counts(normalize=True)"
   ]
  },
  {
   "attachments": {},
   "cell_type": "markdown",
   "metadata": {},
   "source": [
    "Both the training and test set contain defaulted loans at 21.7%"
   ]
  },
  {
   "attachments": {},
   "cell_type": "markdown",
   "metadata": {},
   "source": [
    "Now, I'll use the one hot incoding technique to convert my categorical data type into a format that can be fed into my logistic regression model to improve prediction accuracy.\n",
    "\n",
    "To do so, I'll create a new variable 'loan_data_dumm' from my 'loan_df_sml'"
   ]
  },
  {
   "cell_type": "code",
   "execution_count": 118,
   "metadata": {},
   "outputs": [],
   "source": [
    "loan_data_dumm = pd.get_dummies(loan_df_sml, prefix_sep='_', drop_first=True)"
   ]
  },
  {
   "cell_type": "code",
   "execution_count": 119,
   "metadata": {},
   "outputs": [
    {
     "name": "stdout",
     "output_type": "stream",
     "text": [
      "<class 'pandas.core.frame.DataFrame'>\n",
      "Int64Index: 233154 entries, 420825 to 630213\n",
      "Data columns (total 31 columns):\n",
      " #   Column                         Non-Null Count   Dtype  \n",
      "---  ------                         --------------   -----  \n",
      " 0   LTV                            233154 non-null  float64\n",
      " 1   PERFORM_CNS_SCORE              233154 non-null  float64\n",
      " 2   LOAN_DEFAULT                   233154 non-null  int64  \n",
      " 3   STATE_ID_2                     233154 non-null  uint8  \n",
      " 4   STATE_ID_3                     233154 non-null  uint8  \n",
      " 5   STATE_ID_4                     233154 non-null  uint8  \n",
      " 6   STATE_ID_5                     233154 non-null  uint8  \n",
      " 7   STATE_ID_6                     233154 non-null  uint8  \n",
      " 8   STATE_ID_7                     233154 non-null  uint8  \n",
      " 9   STATE_ID_8                     233154 non-null  uint8  \n",
      " 10  STATE_ID_9                     233154 non-null  uint8  \n",
      " 11  STATE_ID_10                    233154 non-null  uint8  \n",
      " 12  STATE_ID_11                    233154 non-null  uint8  \n",
      " 13  STATE_ID_12                    233154 non-null  uint8  \n",
      " 14  STATE_ID_13                    233154 non-null  uint8  \n",
      " 15  STATE_ID_14                    233154 non-null  uint8  \n",
      " 16  STATE_ID_15                    233154 non-null  uint8  \n",
      " 17  STATE_ID_16                    233154 non-null  uint8  \n",
      " 18  STATE_ID_17                    233154 non-null  uint8  \n",
      " 19  STATE_ID_18                    233154 non-null  uint8  \n",
      " 20  STATE_ID_19                    233154 non-null  uint8  \n",
      " 21  STATE_ID_20                    233154 non-null  uint8  \n",
      " 22  STATE_ID_21                    233154 non-null  uint8  \n",
      " 23  STATE_ID_22                    233154 non-null  uint8  \n",
      " 24  DISBURSED_CAT_150k-1m          233154 non-null  uint8  \n",
      " 25  DISBURSED_CAT_30k-45k          233154 non-null  uint8  \n",
      " 26  DISBURSED_CAT_45k-60k          233154 non-null  uint8  \n",
      " 27  DISBURSED_CAT_60k-75k          233154 non-null  uint8  \n",
      " 28  DISBURSED_CAT_75k-150k         233154 non-null  uint8  \n",
      " 29  EMPLOYMENT_TYPE_Salaried       233154 non-null  uint8  \n",
      " 30  EMPLOYMENT_TYPE_Self employed  233154 non-null  uint8  \n",
      "dtypes: float64(2), int64(1), uint8(28)\n",
      "memory usage: 13.3 MB\n"
     ]
    }
   ],
   "source": [
    "loan_data_dumm.info()"
   ]
  },
  {
   "attachments": {},
   "cell_type": "markdown",
   "metadata": {},
   "source": [
    "Now, I'll investigate how pd.get_dummies is transforming my dataset."
   ]
  },
  {
   "cell_type": "code",
   "execution_count": 121,
   "metadata": {},
   "outputs": [
    {
     "name": "stdout",
     "output_type": "stream",
     "text": [
      "0    215270\n",
      "1     17884\n",
      "Name: STATE_ID_13, dtype: int64\n",
      "0    0.923295\n",
      "1    0.076705\n",
      "Name: STATE_ID_13, dtype: float64\n",
      "0    183330\n",
      "1     49824\n",
      "Name: DISBURSED_CAT_60k-75k, dtype: int64\n",
      "0    0.786304\n",
      "1    0.213696\n",
      "Name: DISBURSED_CAT_60k-75k, dtype: float64\n"
     ]
    }
   ],
   "source": [
    "print(loan_data_dumm['STATE_ID_13'].value_counts())\n",
    "print(loan_data_dumm['STATE_ID_13'].value_counts(normalize=True))\n",
    "\n",
    "print(loan_data_dumm['DISBURSED_CAT_60k-75k'].value_counts())\n",
    "print(loan_data_dumm['DISBURSED_CAT_60k-75k'].value_counts(normalize=True))"
   ]
  },
  {
   "cell_type": "code",
   "execution_count": 122,
   "metadata": {},
   "outputs": [
    {
     "name": "stdout",
     "output_type": "stream",
     "text": [
      "0    0.782975\n",
      "1    0.217025\n",
      "Name: LOAN_DEFAULT, dtype: float64\n",
      "0    0.782821\n",
      "1    0.217179\n",
      "Name: LOAN_DEFAULT, dtype: float64\n"
     ]
    }
   ],
   "source": [
    "# recreate the training and test set using loan_data_dumm\n",
    "\n",
    "x = loan_data_dumm.drop(['LOAN_DEFAULT'], axis=1)\n",
    "y = loan_data_dumm['LOAN_DEFAULT']\n",
    "\n",
    "x_train, x_test, y_train, y_test = train_test_split(x, y, test_size=0.3, random_state=42)\n",
    "\n",
    "print(y_train.value_counts(normalize=True))\n",
    "print(y_test.value_counts(normalize=True))"
   ]
  },
  {
   "cell_type": "code",
   "execution_count": 123,
   "metadata": {},
   "outputs": [
    {
     "name": "stderr",
     "output_type": "stream",
     "text": [
      "C:\\Users\\Joseph\\AppData\\Local\\Packages\\PythonSoftwareFoundation.Python.3.9_qbz5n2kfra8p0\\LocalCache\\local-packages\\Python39\\site-packages\\sklearn\\linear_model\\_logistic.py:458: ConvergenceWarning: lbfgs failed to converge (status=1):\n",
      "STOP: TOTAL NO. of ITERATIONS REACHED LIMIT.\n",
      "\n",
      "Increase the number of iterations (max_iter) or scale the data as shown in:\n",
      "    https://scikit-learn.org/stable/modules/preprocessing.html\n",
      "Please also refer to the documentation for alternative solver options:\n",
      "    https://scikit-learn.org/stable/modules/linear_model.html#logistic-regression\n",
      "  n_iter_i = _check_optimize_result(\n"
     ]
    },
    {
     "data": {
      "text/html": [
       "<style>#sk-container-id-1 {color: black;background-color: white;}#sk-container-id-1 pre{padding: 0;}#sk-container-id-1 div.sk-toggleable {background-color: white;}#sk-container-id-1 label.sk-toggleable__label {cursor: pointer;display: block;width: 100%;margin-bottom: 0;padding: 0.3em;box-sizing: border-box;text-align: center;}#sk-container-id-1 label.sk-toggleable__label-arrow:before {content: \"▸\";float: left;margin-right: 0.25em;color: #696969;}#sk-container-id-1 label.sk-toggleable__label-arrow:hover:before {color: black;}#sk-container-id-1 div.sk-estimator:hover label.sk-toggleable__label-arrow:before {color: black;}#sk-container-id-1 div.sk-toggleable__content {max-height: 0;max-width: 0;overflow: hidden;text-align: left;background-color: #f0f8ff;}#sk-container-id-1 div.sk-toggleable__content pre {margin: 0.2em;color: black;border-radius: 0.25em;background-color: #f0f8ff;}#sk-container-id-1 input.sk-toggleable__control:checked~div.sk-toggleable__content {max-height: 200px;max-width: 100%;overflow: auto;}#sk-container-id-1 input.sk-toggleable__control:checked~label.sk-toggleable__label-arrow:before {content: \"▾\";}#sk-container-id-1 div.sk-estimator input.sk-toggleable__control:checked~label.sk-toggleable__label {background-color: #d4ebff;}#sk-container-id-1 div.sk-label input.sk-toggleable__control:checked~label.sk-toggleable__label {background-color: #d4ebff;}#sk-container-id-1 input.sk-hidden--visually {border: 0;clip: rect(1px 1px 1px 1px);clip: rect(1px, 1px, 1px, 1px);height: 1px;margin: -1px;overflow: hidden;padding: 0;position: absolute;width: 1px;}#sk-container-id-1 div.sk-estimator {font-family: monospace;background-color: #f0f8ff;border: 1px dotted black;border-radius: 0.25em;box-sizing: border-box;margin-bottom: 0.5em;}#sk-container-id-1 div.sk-estimator:hover {background-color: #d4ebff;}#sk-container-id-1 div.sk-parallel-item::after {content: \"\";width: 100%;border-bottom: 1px solid gray;flex-grow: 1;}#sk-container-id-1 div.sk-label:hover label.sk-toggleable__label {background-color: #d4ebff;}#sk-container-id-1 div.sk-serial::before {content: \"\";position: absolute;border-left: 1px solid gray;box-sizing: border-box;top: 0;bottom: 0;left: 50%;z-index: 0;}#sk-container-id-1 div.sk-serial {display: flex;flex-direction: column;align-items: center;background-color: white;padding-right: 0.2em;padding-left: 0.2em;position: relative;}#sk-container-id-1 div.sk-item {position: relative;z-index: 1;}#sk-container-id-1 div.sk-parallel {display: flex;align-items: stretch;justify-content: center;background-color: white;position: relative;}#sk-container-id-1 div.sk-item::before, #sk-container-id-1 div.sk-parallel-item::before {content: \"\";position: absolute;border-left: 1px solid gray;box-sizing: border-box;top: 0;bottom: 0;left: 50%;z-index: -1;}#sk-container-id-1 div.sk-parallel-item {display: flex;flex-direction: column;z-index: 1;position: relative;background-color: white;}#sk-container-id-1 div.sk-parallel-item:first-child::after {align-self: flex-end;width: 50%;}#sk-container-id-1 div.sk-parallel-item:last-child::after {align-self: flex-start;width: 50%;}#sk-container-id-1 div.sk-parallel-item:only-child::after {width: 0;}#sk-container-id-1 div.sk-dashed-wrapped {border: 1px dashed gray;margin: 0 0.4em 0.5em 0.4em;box-sizing: border-box;padding-bottom: 0.4em;background-color: white;}#sk-container-id-1 div.sk-label label {font-family: monospace;font-weight: bold;display: inline-block;line-height: 1.2em;}#sk-container-id-1 div.sk-label-container {text-align: center;}#sk-container-id-1 div.sk-container {/* jupyter's `normalize.less` sets `[hidden] { display: none; }` but bootstrap.min.css set `[hidden] { display: none !important; }` so we also need the `!important` here to be able to override the default hidden behavior on the sphinx rendered scikit-learn.org. See: https://github.com/scikit-learn/scikit-learn/issues/21755 */display: inline-block !important;position: relative;}#sk-container-id-1 div.sk-text-repr-fallback {display: none;}</style><div id=\"sk-container-id-1\" class=\"sk-top-container\"><div class=\"sk-text-repr-fallback\"><pre>LogisticRegression()</pre><b>In a Jupyter environment, please rerun this cell to show the HTML representation or trust the notebook. <br />On GitHub, the HTML representation is unable to render, please try loading this page with nbviewer.org.</b></div><div class=\"sk-container\" hidden><div class=\"sk-item\"><div class=\"sk-estimator sk-toggleable\"><input class=\"sk-toggleable__control sk-hidden--visually\" id=\"sk-estimator-id-1\" type=\"checkbox\" checked><label for=\"sk-estimator-id-1\" class=\"sk-toggleable__label sk-toggleable__label-arrow\">LogisticRegression</label><div class=\"sk-toggleable__content\"><pre>LogisticRegression()</pre></div></div></div></div></div>"
      ],
      "text/plain": [
       "LogisticRegression()"
      ]
     },
     "execution_count": 123,
     "metadata": {},
     "output_type": "execute_result"
    }
   ],
   "source": [
    "# fit the model\n",
    "\n",
    "logistic_model = LogisticRegression()\n",
    "logistic_model.fit(x_train, y_train)"
   ]
  },
  {
   "attachments": {},
   "cell_type": "markdown",
   "metadata": {},
   "source": [
    "Let's increase the maximum allowed iterations to resolve the warning."
   ]
  },
  {
   "cell_type": "code",
   "execution_count": 124,
   "metadata": {},
   "outputs": [
    {
     "data": {
      "text/html": [
       "<style>#sk-container-id-2 {color: black;background-color: white;}#sk-container-id-2 pre{padding: 0;}#sk-container-id-2 div.sk-toggleable {background-color: white;}#sk-container-id-2 label.sk-toggleable__label {cursor: pointer;display: block;width: 100%;margin-bottom: 0;padding: 0.3em;box-sizing: border-box;text-align: center;}#sk-container-id-2 label.sk-toggleable__label-arrow:before {content: \"▸\";float: left;margin-right: 0.25em;color: #696969;}#sk-container-id-2 label.sk-toggleable__label-arrow:hover:before {color: black;}#sk-container-id-2 div.sk-estimator:hover label.sk-toggleable__label-arrow:before {color: black;}#sk-container-id-2 div.sk-toggleable__content {max-height: 0;max-width: 0;overflow: hidden;text-align: left;background-color: #f0f8ff;}#sk-container-id-2 div.sk-toggleable__content pre {margin: 0.2em;color: black;border-radius: 0.25em;background-color: #f0f8ff;}#sk-container-id-2 input.sk-toggleable__control:checked~div.sk-toggleable__content {max-height: 200px;max-width: 100%;overflow: auto;}#sk-container-id-2 input.sk-toggleable__control:checked~label.sk-toggleable__label-arrow:before {content: \"▾\";}#sk-container-id-2 div.sk-estimator input.sk-toggleable__control:checked~label.sk-toggleable__label {background-color: #d4ebff;}#sk-container-id-2 div.sk-label input.sk-toggleable__control:checked~label.sk-toggleable__label {background-color: #d4ebff;}#sk-container-id-2 input.sk-hidden--visually {border: 0;clip: rect(1px 1px 1px 1px);clip: rect(1px, 1px, 1px, 1px);height: 1px;margin: -1px;overflow: hidden;padding: 0;position: absolute;width: 1px;}#sk-container-id-2 div.sk-estimator {font-family: monospace;background-color: #f0f8ff;border: 1px dotted black;border-radius: 0.25em;box-sizing: border-box;margin-bottom: 0.5em;}#sk-container-id-2 div.sk-estimator:hover {background-color: #d4ebff;}#sk-container-id-2 div.sk-parallel-item::after {content: \"\";width: 100%;border-bottom: 1px solid gray;flex-grow: 1;}#sk-container-id-2 div.sk-label:hover label.sk-toggleable__label {background-color: #d4ebff;}#sk-container-id-2 div.sk-serial::before {content: \"\";position: absolute;border-left: 1px solid gray;box-sizing: border-box;top: 0;bottom: 0;left: 50%;z-index: 0;}#sk-container-id-2 div.sk-serial {display: flex;flex-direction: column;align-items: center;background-color: white;padding-right: 0.2em;padding-left: 0.2em;position: relative;}#sk-container-id-2 div.sk-item {position: relative;z-index: 1;}#sk-container-id-2 div.sk-parallel {display: flex;align-items: stretch;justify-content: center;background-color: white;position: relative;}#sk-container-id-2 div.sk-item::before, #sk-container-id-2 div.sk-parallel-item::before {content: \"\";position: absolute;border-left: 1px solid gray;box-sizing: border-box;top: 0;bottom: 0;left: 50%;z-index: -1;}#sk-container-id-2 div.sk-parallel-item {display: flex;flex-direction: column;z-index: 1;position: relative;background-color: white;}#sk-container-id-2 div.sk-parallel-item:first-child::after {align-self: flex-end;width: 50%;}#sk-container-id-2 div.sk-parallel-item:last-child::after {align-self: flex-start;width: 50%;}#sk-container-id-2 div.sk-parallel-item:only-child::after {width: 0;}#sk-container-id-2 div.sk-dashed-wrapped {border: 1px dashed gray;margin: 0 0.4em 0.5em 0.4em;box-sizing: border-box;padding-bottom: 0.4em;background-color: white;}#sk-container-id-2 div.sk-label label {font-family: monospace;font-weight: bold;display: inline-block;line-height: 1.2em;}#sk-container-id-2 div.sk-label-container {text-align: center;}#sk-container-id-2 div.sk-container {/* jupyter's `normalize.less` sets `[hidden] { display: none; }` but bootstrap.min.css set `[hidden] { display: none !important; }` so we also need the `!important` here to be able to override the default hidden behavior on the sphinx rendered scikit-learn.org. See: https://github.com/scikit-learn/scikit-learn/issues/21755 */display: inline-block !important;position: relative;}#sk-container-id-2 div.sk-text-repr-fallback {display: none;}</style><div id=\"sk-container-id-2\" class=\"sk-top-container\"><div class=\"sk-text-repr-fallback\"><pre>LogisticRegression(max_iter=200)</pre><b>In a Jupyter environment, please rerun this cell to show the HTML representation or trust the notebook. <br />On GitHub, the HTML representation is unable to render, please try loading this page with nbviewer.org.</b></div><div class=\"sk-container\" hidden><div class=\"sk-item\"><div class=\"sk-estimator sk-toggleable\"><input class=\"sk-toggleable__control sk-hidden--visually\" id=\"sk-estimator-id-2\" type=\"checkbox\" checked><label for=\"sk-estimator-id-2\" class=\"sk-toggleable__label sk-toggleable__label-arrow\">LogisticRegression</label><div class=\"sk-toggleable__content\"><pre>LogisticRegression(max_iter=200)</pre></div></div></div></div></div>"
      ],
      "text/plain": [
       "LogisticRegression(max_iter=200)"
      ]
     },
     "execution_count": 124,
     "metadata": {},
     "output_type": "execute_result"
    }
   ],
   "source": [
    "# the default value is 100, so I'll try 200\n",
    "\n",
    "logistic_model = LogisticRegression(max_iter=200)\n",
    "logistic_model.fit(x_train, y_train)"
   ]
  },
  {
   "attachments": {},
   "cell_type": "markdown",
   "metadata": {},
   "source": [
    "Great! I have successfully trained the model and I no lonber see the convergence warning.\n",
    "\n",
    "Now, I'll generate some predictions for my test set."
   ]
  },
  {
   "cell_type": "code",
   "execution_count": 125,
   "metadata": {},
   "outputs": [
    {
     "data": {
      "text/plain": [
       "array([0, 0, 0, ..., 0, 0, 0], dtype=int64)"
      ]
     },
     "execution_count": 125,
     "metadata": {},
     "output_type": "execute_result"
    }
   ],
   "source": [
    "# use predict to pass the test features to the model and generate predictions\n",
    "\n",
    "preds = logistic_model.predict(x_test)\n",
    "preds"
   ]
  },
  {
   "cell_type": "code",
   "execution_count": 126,
   "metadata": {},
   "outputs": [
    {
     "data": {
      "text/plain": [
       "0.7828355755071698"
      ]
     },
     "execution_count": 126,
     "metadata": {},
     "output_type": "execute_result"
    }
   ],
   "source": [
    "logistic_model.score(x_test, y_test)"
   ]
  },
  {
   "attachments": {},
   "cell_type": "markdown",
   "metadata": {},
   "source": [
    "It looks like the model performed quite well. It predicted 78% of the test cases correctly. However, accuracy can be misleading measure of model performance.\n",
    "\n",
    "Let's explore other measures of model performance."
   ]
  }
 ],
 "metadata": {
  "kernelspec": {
   "display_name": "Python 3",
   "language": "python",
   "name": "python3"
  },
  "language_info": {
   "codemirror_mode": {
    "name": "ipython",
    "version": 3
   },
   "file_extension": ".py",
   "mimetype": "text/x-python",
   "name": "python",
   "nbconvert_exporter": "python",
   "pygments_lexer": "ipython3",
   "version": "3.9.13"
  },
  "orig_nbformat": 4,
  "vscode": {
   "interpreter": {
    "hash": "9d169d332d065b6e1de73db6cbcb579de97748cc585a1dc5240526c02288e400"
   }
  }
 },
 "nbformat": 4,
 "nbformat_minor": 2
}
