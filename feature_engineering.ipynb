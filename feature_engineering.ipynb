{
 "cells": [
  {
   "attachments": {},
   "cell_type": "markdown",
   "metadata": {},
   "source": [
    "## Feature Engineering"
   ]
  },
  {
   "cell_type": "code",
   "execution_count": 229,
   "metadata": {},
   "outputs": [],
   "source": [
    "# import libraries\n",
    "\n",
    "import pandas as pd\n",
    "import matplotlib.pyplot as plt\n",
    "import numpy as np\n",
    "import seaborn as sns\n",
    "from sklearn.preprocessing import MinMaxScaler"
   ]
  },
  {
   "cell_type": "code",
   "execution_count": 230,
   "metadata": {},
   "outputs": [],
   "source": [
    "# Load data\n",
    "\n",
    "loan_df = pd.read_csv(r'C:\\Users\\Joseph\\OneDrive\\Documents\\CFI\\Loan Default Prediction With Machine Learning\\data\\new_data\\data\\vehicle_loans_eda_1.csv', index_col='UNIQUEID')"
   ]
  },
  {
   "cell_type": "code",
   "execution_count": 231,
   "metadata": {},
   "outputs": [
    {
     "data": {
      "text/html": [
       "<div>\n",
       "<style scoped>\n",
       "    .dataframe tbody tr th:only-of-type {\n",
       "        vertical-align: middle;\n",
       "    }\n",
       "\n",
       "    .dataframe tbody tr th {\n",
       "        vertical-align: top;\n",
       "    }\n",
       "\n",
       "    .dataframe thead th {\n",
       "        text-align: right;\n",
       "    }\n",
       "</style>\n",
       "<table border=\"1\" class=\"dataframe\">\n",
       "  <thead>\n",
       "    <tr style=\"text-align: right;\">\n",
       "      <th></th>\n",
       "      <th>DISBURSED_AMOUNT</th>\n",
       "      <th>ASSET_COST</th>\n",
       "      <th>LTV</th>\n",
       "      <th>MANUFACTURER_ID</th>\n",
       "      <th>EMPLOYMENT_TYPE</th>\n",
       "      <th>STATE_ID</th>\n",
       "      <th>AADHAR_FLAG</th>\n",
       "      <th>PAN_FLAG</th>\n",
       "      <th>VOTERID_FLAG</th>\n",
       "      <th>DRIVING_FLAG</th>\n",
       "      <th>...</th>\n",
       "      <th>SEC_DISBURSED_AMOUNT</th>\n",
       "      <th>PRIMARY_INSTAL_AMT</th>\n",
       "      <th>SEC_INSTAL_AMT</th>\n",
       "      <th>NEW_ACCTS_IN_LAST_SIX_MONTHS</th>\n",
       "      <th>DELINQUENT_ACCTS_IN_LAST_SIX_MONTHS</th>\n",
       "      <th>NO_OF_INQUIRIES</th>\n",
       "      <th>LOAN_DEFAULT</th>\n",
       "      <th>AGE</th>\n",
       "      <th>AVERAGE_ACCT_AGE_MONTHS</th>\n",
       "      <th>CREDIT_HISTORY_LENGTH_MONTHS</th>\n",
       "    </tr>\n",
       "    <tr>\n",
       "      <th>UNIQUEID</th>\n",
       "      <th></th>\n",
       "      <th></th>\n",
       "      <th></th>\n",
       "      <th></th>\n",
       "      <th></th>\n",
       "      <th></th>\n",
       "      <th></th>\n",
       "      <th></th>\n",
       "      <th></th>\n",
       "      <th></th>\n",
       "      <th></th>\n",
       "      <th></th>\n",
       "      <th></th>\n",
       "      <th></th>\n",
       "      <th></th>\n",
       "      <th></th>\n",
       "      <th></th>\n",
       "      <th></th>\n",
       "      <th></th>\n",
       "      <th></th>\n",
       "      <th></th>\n",
       "    </tr>\n",
       "  </thead>\n",
       "  <tbody>\n",
       "    <tr>\n",
       "      <th>420825</th>\n",
       "      <td>50578</td>\n",
       "      <td>58400</td>\n",
       "      <td>89.55</td>\n",
       "      <td>45</td>\n",
       "      <td>Salaried</td>\n",
       "      <td>6</td>\n",
       "      <td>1</td>\n",
       "      <td>0</td>\n",
       "      <td>0</td>\n",
       "      <td>0</td>\n",
       "      <td>...</td>\n",
       "      <td>0</td>\n",
       "      <td>0</td>\n",
       "      <td>0</td>\n",
       "      <td>0</td>\n",
       "      <td>0</td>\n",
       "      <td>0</td>\n",
       "      <td>0</td>\n",
       "      <td>34</td>\n",
       "      <td>0</td>\n",
       "      <td>0</td>\n",
       "    </tr>\n",
       "    <tr>\n",
       "      <th>537409</th>\n",
       "      <td>47145</td>\n",
       "      <td>65550</td>\n",
       "      <td>73.23</td>\n",
       "      <td>45</td>\n",
       "      <td>Self employed</td>\n",
       "      <td>6</td>\n",
       "      <td>1</td>\n",
       "      <td>0</td>\n",
       "      <td>0</td>\n",
       "      <td>0</td>\n",
       "      <td>...</td>\n",
       "      <td>0</td>\n",
       "      <td>1991</td>\n",
       "      <td>0</td>\n",
       "      <td>0</td>\n",
       "      <td>1</td>\n",
       "      <td>0</td>\n",
       "      <td>1</td>\n",
       "      <td>33</td>\n",
       "      <td>23</td>\n",
       "      <td>23</td>\n",
       "    </tr>\n",
       "    <tr>\n",
       "      <th>417566</th>\n",
       "      <td>53278</td>\n",
       "      <td>61360</td>\n",
       "      <td>89.63</td>\n",
       "      <td>45</td>\n",
       "      <td>Self employed</td>\n",
       "      <td>6</td>\n",
       "      <td>1</td>\n",
       "      <td>0</td>\n",
       "      <td>0</td>\n",
       "      <td>0</td>\n",
       "      <td>...</td>\n",
       "      <td>0</td>\n",
       "      <td>0</td>\n",
       "      <td>0</td>\n",
       "      <td>0</td>\n",
       "      <td>0</td>\n",
       "      <td>0</td>\n",
       "      <td>0</td>\n",
       "      <td>32</td>\n",
       "      <td>0</td>\n",
       "      <td>0</td>\n",
       "    </tr>\n",
       "    <tr>\n",
       "      <th>624493</th>\n",
       "      <td>57513</td>\n",
       "      <td>66113</td>\n",
       "      <td>88.48</td>\n",
       "      <td>45</td>\n",
       "      <td>Self employed</td>\n",
       "      <td>6</td>\n",
       "      <td>1</td>\n",
       "      <td>0</td>\n",
       "      <td>0</td>\n",
       "      <td>0</td>\n",
       "      <td>...</td>\n",
       "      <td>0</td>\n",
       "      <td>31</td>\n",
       "      <td>0</td>\n",
       "      <td>0</td>\n",
       "      <td>0</td>\n",
       "      <td>1</td>\n",
       "      <td>1</td>\n",
       "      <td>24</td>\n",
       "      <td>8</td>\n",
       "      <td>15</td>\n",
       "    </tr>\n",
       "    <tr>\n",
       "      <th>539055</th>\n",
       "      <td>52378</td>\n",
       "      <td>60300</td>\n",
       "      <td>88.39</td>\n",
       "      <td>45</td>\n",
       "      <td>Self employed</td>\n",
       "      <td>6</td>\n",
       "      <td>1</td>\n",
       "      <td>0</td>\n",
       "      <td>0</td>\n",
       "      <td>0</td>\n",
       "      <td>...</td>\n",
       "      <td>0</td>\n",
       "      <td>0</td>\n",
       "      <td>0</td>\n",
       "      <td>0</td>\n",
       "      <td>0</td>\n",
       "      <td>1</td>\n",
       "      <td>1</td>\n",
       "      <td>41</td>\n",
       "      <td>0</td>\n",
       "      <td>0</td>\n",
       "    </tr>\n",
       "  </tbody>\n",
       "</table>\n",
       "<p>5 rows × 34 columns</p>\n",
       "</div>"
      ],
      "text/plain": [
       "          DISBURSED_AMOUNT  ASSET_COST    LTV  MANUFACTURER_ID  \\\n",
       "UNIQUEID                                                         \n",
       "420825               50578       58400  89.55               45   \n",
       "537409               47145       65550  73.23               45   \n",
       "417566               53278       61360  89.63               45   \n",
       "624493               57513       66113  88.48               45   \n",
       "539055               52378       60300  88.39               45   \n",
       "\n",
       "         EMPLOYMENT_TYPE  STATE_ID  AADHAR_FLAG  PAN_FLAG  VOTERID_FLAG  \\\n",
       "UNIQUEID                                                                  \n",
       "420825          Salaried         6            1         0             0   \n",
       "537409     Self employed         6            1         0             0   \n",
       "417566     Self employed         6            1         0             0   \n",
       "624493     Self employed         6            1         0             0   \n",
       "539055     Self employed         6            1         0             0   \n",
       "\n",
       "          DRIVING_FLAG  ...  SEC_DISBURSED_AMOUNT  PRIMARY_INSTAL_AMT  \\\n",
       "UNIQUEID                ...                                             \n",
       "420825               0  ...                     0                   0   \n",
       "537409               0  ...                     0                1991   \n",
       "417566               0  ...                     0                   0   \n",
       "624493               0  ...                     0                  31   \n",
       "539055               0  ...                     0                   0   \n",
       "\n",
       "         SEC_INSTAL_AMT  NEW_ACCTS_IN_LAST_SIX_MONTHS  \\\n",
       "UNIQUEID                                                \n",
       "420825                0                             0   \n",
       "537409                0                             0   \n",
       "417566                0                             0   \n",
       "624493                0                             0   \n",
       "539055                0                             0   \n",
       "\n",
       "          DELINQUENT_ACCTS_IN_LAST_SIX_MONTHS  NO_OF_INQUIRIES  LOAN_DEFAULT  \\\n",
       "UNIQUEID                                                                       \n",
       "420825                                      0                0             0   \n",
       "537409                                      1                0             1   \n",
       "417566                                      0                0             0   \n",
       "624493                                      0                1             1   \n",
       "539055                                      0                1             1   \n",
       "\n",
       "          AGE  AVERAGE_ACCT_AGE_MONTHS  CREDIT_HISTORY_LENGTH_MONTHS  \n",
       "UNIQUEID                                                              \n",
       "420825     34                        0                             0  \n",
       "537409     33                       23                            23  \n",
       "417566     32                        0                             0  \n",
       "624493     24                        8                            15  \n",
       "539055     41                        0                             0  \n",
       "\n",
       "[5 rows x 34 columns]"
      ]
     },
     "execution_count": 231,
     "metadata": {},
     "output_type": "execute_result"
    }
   ],
   "source": [
    "# inspect the head\n",
    "\n",
    "loan_df.head()"
   ]
  },
  {
   "attachments": {},
   "cell_type": "markdown",
   "metadata": {},
   "source": [
    "Let's bring in the explore_categorical and explore_continuous functions we created in the EDA"
   ]
  },
  {
   "cell_type": "code",
   "execution_count": 232,
   "metadata": {},
   "outputs": [],
   "source": [
    "def explore_categorical(col_name):   \n",
    "    print(\"{0} Summary\".format(col_name))\n",
    "    print(\"\\n\")\n",
    "\n",
    "    print(\"{0} Counts\".format(col_name))\n",
    "    print(loan_df[col_name].value_counts())\n",
    "    print(\"\\n\")\n",
    "\n",
    "    print(\"{0} Ratio\".format(col_name))\n",
    "    print(loan_df[col_name].value_counts(normalize=True))\n",
    "    print(\"\\n\")\n",
    "\n",
    "    print(\"{0} Default Counts\".format(col_name))\n",
    "    print(loan_df.groupby(col_name)['LOAN_DEFAULT'].value_counts().unstack(level=-1))\n",
    "    print(\"\\n\")\n",
    "\n",
    "    print(\"{0} Default Ratio\".format(col_name))\n",
    "    print(loan_df.groupby(col_name)['LOAN_DEFAULT'].value_counts(normalize=True).unstack(level=-1))\n",
    "    print(\"\\n\")\n",
    "\n",
    "    sns.catplot(data=loan_df,kind='count',x=col_name,hue='LOAN_DEFAULT')\n",
    "    plt.show()"
   ]
  },
  {
   "cell_type": "code",
   "execution_count": 233,
   "metadata": {},
   "outputs": [],
   "source": [
    "def explore_continuous(col_name):\n",
    "    #print statistical summary\n",
    "    print(\"{0} Summary\".format(col_name))\n",
    "    print(\"\\n\")\n",
    "    print(loan_df[col_name].describe())\n",
    "    print(\"\\n\")\n",
    "\n",
    "    #Look at boxplot\n",
    "    sns.boxplot(x=col_name, data=loan_df)\n",
    "    plt.show()\n",
    "\n",
    "    #Look at the distribution\n",
    "    sns.distplot(loan_df[col_name], hist=False)\n",
    "    plt.show()\n",
    "\n",
    "    #Now lets look deeper by grouping with the target variable \n",
    "    print(\"{0} Grouped Summary\".format(col_name))\n",
    "    print(\"\\n\")\n",
    "    print(loan_df.groupby('LOAN_DEFAULT')[col_name].describe())\n",
    "\n",
    "    #look at grouped boxplot \n",
    "    sns.boxplot(x=col_name, y='LOAN_DEFAULT', data=loan_df, orient=\"h\")\n",
    "    plt.show()"
   ]
  },
  {
   "attachments": {},
   "cell_type": "markdown",
   "metadata": {},
   "source": [
    "In EDA, I observed that disbursed amount had some extremely large values. Let's have a closer look."
   ]
  },
  {
   "cell_type": "code",
   "execution_count": 234,
   "metadata": {},
   "outputs": [
    {
     "name": "stdout",
     "output_type": "stream",
     "text": [
      "DISBURSED_AMOUNT Summary\n",
      "\n",
      "\n",
      "count    233154.000000\n",
      "mean      54356.993528\n",
      "std       12971.314171\n",
      "min       13320.000000\n",
      "25%       47145.000000\n",
      "50%       53803.000000\n",
      "75%       60413.000000\n",
      "max      990572.000000\n",
      "Name: DISBURSED_AMOUNT, dtype: float64\n",
      "\n",
      "\n"
     ]
    },
    {
     "data": {
      "image/png": "[encoded data removed]",
      "text/plain": [
       "<Figure size 640x480 with 1 Axes>"
      ]
     },
     "metadata": {},
     "output_type": "display_data"
    },
    {
     "name": "stderr",
     "output_type": "stream",
     "text": [
      "C:\\Users\\Joseph\\AppData\\Local\\Temp\\ipykernel_16700\\115762789.py:13: UserWarning: \n",
      "\n",
      "`distplot` is a deprecated function and will be removed in seaborn v0.14.0.\n",
      "\n",
      "Please adapt your code to use either `displot` (a figure-level function with\n",
      "similar flexibility) or `kdeplot` (an axes-level function for kernel density plots).\n",
      "\n",
      "For a guide to updating your code to use the new functions, please see\n",
      "https://gist.github.com/mwaskom/de44147ed2974457ad6372750bbe5751\n",
      "\n",
      "  sns.distplot(loan_df[col_name], hist=False)\n"
     ]
    },
    {
     "data": {
      "image/png": "[encoded data removed]",
      "text/plain": [
       "<Figure size 640x480 with 1 Axes>"
      ]
     },
     "metadata": {},
     "output_type": "display_data"
    },
    {
     "name": "stdout",
     "output_type": "stream",
     "text": [
      "DISBURSED_AMOUNT Grouped Summary\n",
      "\n",
      "\n",
      "                 count          mean           std      min      25%      50%  \\\n",
      "LOAN_DEFAULT                                                                    \n",
      "0             182543.0  53826.471111  13140.699007  13320.0  46369.0  53303.0   \n",
      "1              50611.0  56270.473869  12150.255527  13369.0  49303.0  55459.0   \n",
      "\n",
      "                  75%       max  \n",
      "LOAN_DEFAULT                     \n",
      "0             59947.0  990572.0  \n",
      "1             61947.0  191392.0  \n"
     ]
    },
    {
     "data": {
      "image/png": "[encoded data removed]",
      "text/plain": [
       "<Figure size 640x480 with 1 Axes>"
      ]
     },
     "metadata": {},
     "output_type": "display_data"
    }
   ],
   "source": [
    "# Closer look at DISBUSED_AMOUNT\n",
    "\n",
    "explore_continuous('DISBURSED_AMOUNT')"
   ]
  },
  {
   "attachments": {},
   "cell_type": "markdown",
   "metadata": {},
   "source": [
    "The largest value here is 990,572. This is considerably larger than the next largest value which is also an extreme outlier.\n",
    "\n",
    "Is it possible that this could be an error in the data?\n",
    "\n",
    "- If I assume that the disbursal amount is stored in Indian rupees, then 990,572 equates to $13,400\n",
    "- It's a lot of money but not impossible for a car loan\n",
    "\n",
    "Let'x examine the row data, LTV and ASSET_COST to get an idea about whether or not this is a valid piece of data."
   ]
  },
  {
   "cell_type": "code",
   "execution_count": 235,
   "metadata": {},
   "outputs": [
    {
     "data": {
      "text/plain": [
       "DISBURSED_AMOUNT                                                                  990572\n",
       "ASSET_COST                                                                       1628992\n",
       "LTV                                                                                61.39\n",
       "MANUFACTURER_ID                                                                      152\n",
       "EMPLOYMENT_TYPE                                                                  Missing\n",
       "STATE_ID                                                                               9\n",
       "AADHAR_FLAG                                                                            1\n",
       "PAN_FLAG                                                                               1\n",
       "VOTERID_FLAG                                                                           0\n",
       "DRIVING_FLAG                                                                           0\n",
       "PASSPORT_FLAG                                                                          0\n",
       "PERFORM_CNS_SCORE                                                                     16\n",
       "PERFORM_CNS_SCORE_DESCRIPTION          Not Scored: No Activity seen on the customer (...\n",
       "PRI_NO_OF_ACCTS                                                                        1\n",
       "PRI_ACTIVE_ACCTS                                                                       0\n",
       "PRI_OVERDUE_ACCTS                                                                      1\n",
       "PRI_CURRENT_BALANCE                                                                    0\n",
       "PRI_SANCTIONED_AMOUNT                                                                  0\n",
       "PRI_DISBURSED_AMOUNT                                                                   0\n",
       "SEC_NO_OF_ACCTS                                                                        0\n",
       "SEC_ACTIVE_ACCTS                                                                       0\n",
       "SEC_OVERDUE_ACCTS                                                                      0\n",
       "SEC_CURRENT_BALANCE                                                                    0\n",
       "SEC_SANCTIONED_AMOUNT                                                                  0\n",
       "SEC_DISBURSED_AMOUNT                                                                   0\n",
       "PRIMARY_INSTAL_AMT                                                                  6224\n",
       "SEC_INSTAL_AMT                                                                         0\n",
       "NEW_ACCTS_IN_LAST_SIX_MONTHS                                                           0\n",
       "DELINQUENT_ACCTS_IN_LAST_SIX_MONTHS                                                    0\n",
       "NO_OF_INQUIRIES                                                                        0\n",
       "LOAN_DEFAULT                                                                           0\n",
       "AGE                                                                                   28\n",
       "AVERAGE_ACCT_AGE_MONTHS                                                               70\n",
       "CREDIT_HISTORY_LENGTH_MONTHS                                                          70\n",
       "Name: 440173, dtype: object"
      ]
     },
     "execution_count": 235,
     "metadata": {},
     "output_type": "execute_result"
    }
   ],
   "source": [
    "loan_df.loc[loan_df['DISBURSED_AMOUNT'].idxmax()]"
   ]
  },
  {
   "attachments": {},
   "cell_type": "markdown",
   "metadata": {},
   "source": [
    "Ok, it seems reasonable that the applicant borrowed 990,572 to pay for a car that cost 1,628,992. Let's assume a legitimate value that I want to include in my model.\n",
    "\n",
    "One way to keep extreme values without them skewing the data is through binning. Let's create some bins based on the disbursed amount."
   ]
  },
  {
   "cell_type": "code",
   "execution_count": 236,
   "metadata": {},
   "outputs": [],
   "source": [
    "disbursed_buckets = [13000, 30000, 45000, 60000, 75000, 150000, 1000000]\n",
    "disbursed_labels = ['13k-30k','30k-45k','45k-60k','60k-75k','75k-150k','150k-1m']"
   ]
  },
  {
   "attachments": {},
   "cell_type": "markdown",
   "metadata": {},
   "source": [
    "Now, I'll use these bins to categorize the rows based on their disbursed amounts."
   ]
  },
  {
   "cell_type": "code",
   "execution_count": 237,
   "metadata": {},
   "outputs": [],
   "source": [
    "loan_df['DISBURSED_CAT'] = pd.cut(loan_df['DISBURSED_AMOUNT'], disbursed_buckets, labels=disbursed_labels)"
   ]
  },
  {
   "cell_type": "code",
   "execution_count": 238,
   "metadata": {},
   "outputs": [
    {
     "name": "stdout",
     "output_type": "stream",
     "text": [
      "DISBURSED_CAT Summary\n",
      "\n",
      "\n",
      "DISBURSED_CAT Counts\n",
      "45k-60k     126904\n",
      "60k-75k      49824\n",
      "30k-45k      40626\n",
      "75k-150k     10871\n",
      "13k-30k       4865\n",
      "150k-1m         64\n",
      "Name: DISBURSED_CAT, dtype: int64\n",
      "\n",
      "\n",
      "DISBURSED_CAT Ratio\n",
      "45k-60k     0.544293\n",
      "60k-75k     0.213696\n",
      "30k-45k     0.174245\n",
      "75k-150k    0.046626\n",
      "13k-30k     0.020866\n",
      "150k-1m     0.000274\n",
      "Name: DISBURSED_CAT, dtype: float64\n",
      "\n",
      "\n",
      "DISBURSED_CAT Default Counts\n",
      "LOAN_DEFAULT       0      1\n",
      "DISBURSED_CAT              \n",
      "13k-30k         4207    658\n",
      "30k-45k        34323   6303\n",
      "45k-60k        98830  28074\n",
      "60k-75k        37056  12768\n",
      "75k-150k        8070   2801\n",
      "150k-1m           57      7\n",
      "\n",
      "\n",
      "DISBURSED_CAT Default Ratio\n",
      "LOAN_DEFAULT          0         1\n",
      "DISBURSED_CAT                    \n",
      "13k-30k        0.864748  0.135252\n",
      "30k-45k        0.844853  0.155147\n",
      "45k-60k        0.778778  0.221222\n",
      "60k-75k        0.743738  0.256262\n",
      "75k-150k       0.742342  0.257658\n",
      "150k-1m        0.890625  0.109375\n",
      "\n",
      "\n"
     ]
    },
    {
     "data": {
      "image/png": "[encoded data removed]",
      "text/plain": [
       "<Figure size 616.111x500 with 1 Axes>"
      ]
     },
     "metadata": {},
     "output_type": "display_data"
    }
   ],
   "source": [
    "explore_categorical('DISBURSED_CAT')"
   ]
  },
  {
   "attachments": {},
   "cell_type": "markdown",
   "metadata": {},
   "source": [
    "The vast majority of loans fall in the '45K - 60K bucket. Also, the higher the loan amount, the more likely it was to default except for loans in the very largest category."
   ]
  },
  {
   "attachments": {},
   "cell_type": "markdown",
   "metadata": {},
   "source": [
    "Now, let's create a new feature \"DISBURSAL_DIFFERENCE\" column from the difference between the \"ASSET_COST\" and \"DISBURSED_AMOUNT\""
   ]
  },
  {
   "cell_type": "code",
   "execution_count": 239,
   "metadata": {},
   "outputs": [],
   "source": [
    "# create new column DISBURSAL_DIFFERENCE\n",
    "\n",
    "loan_df['DISBURSAL_DIFFERENCE'] = loan_df['ASSET_COST'] - loan_df['DISBURSED_AMOUNT']"
   ]
  },
  {
   "cell_type": "code",
   "execution_count": 240,
   "metadata": {},
   "outputs": [
    {
     "data": {
      "text/html": [
       "<div>\n",
       "<style scoped>\n",
       "    .dataframe tbody tr th:only-of-type {\n",
       "        vertical-align: middle;\n",
       "    }\n",
       "\n",
       "    .dataframe tbody tr th {\n",
       "        vertical-align: top;\n",
       "    }\n",
       "\n",
       "    .dataframe thead th {\n",
       "        text-align: right;\n",
       "    }\n",
       "</style>\n",
       "<table border=\"1\" class=\"dataframe\">\n",
       "  <thead>\n",
       "    <tr style=\"text-align: right;\">\n",
       "      <th></th>\n",
       "      <th>DISBURSAL_DIFFERENCE</th>\n",
       "      <th>ASSET_COST</th>\n",
       "      <th>DISBURSED_AMOUNT</th>\n",
       "    </tr>\n",
       "    <tr>\n",
       "      <th>UNIQUEID</th>\n",
       "      <th></th>\n",
       "      <th></th>\n",
       "      <th></th>\n",
       "    </tr>\n",
       "  </thead>\n",
       "  <tbody>\n",
       "    <tr>\n",
       "      <th>486050</th>\n",
       "      <td>22942</td>\n",
       "      <td>42400</td>\n",
       "      <td>19458</td>\n",
       "    </tr>\n",
       "    <tr>\n",
       "      <th>631187</th>\n",
       "      <td>31677</td>\n",
       "      <td>101800</td>\n",
       "      <td>70123</td>\n",
       "    </tr>\n",
       "    <tr>\n",
       "      <th>542062</th>\n",
       "      <td>74450</td>\n",
       "      <td>170349</td>\n",
       "      <td>95899</td>\n",
       "    </tr>\n",
       "    <tr>\n",
       "      <th>625151</th>\n",
       "      <td>27838</td>\n",
       "      <td>68732</td>\n",
       "      <td>40894</td>\n",
       "    </tr>\n",
       "    <tr>\n",
       "      <th>447807</th>\n",
       "      <td>15731</td>\n",
       "      <td>84900</td>\n",
       "      <td>69169</td>\n",
       "    </tr>\n",
       "  </tbody>\n",
       "</table>\n",
       "</div>"
      ],
      "text/plain": [
       "          DISBURSAL_DIFFERENCE  ASSET_COST  DISBURSED_AMOUNT\n",
       "UNIQUEID                                                    \n",
       "486050                   22942       42400             19458\n",
       "631187                   31677      101800             70123\n",
       "542062                   74450      170349             95899\n",
       "625151                   27838       68732             40894\n",
       "447807                   15731       84900             69169"
      ]
     },
     "execution_count": 240,
     "metadata": {},
     "output_type": "execute_result"
    }
   ],
   "source": [
    "# Inspect the new column (DISBURSAL_DIFFERENCE)\n",
    "\n",
    "loan_df[['DISBURSAL_DIFFERENCE', 'ASSET_COST', 'DISBURSED_AMOUNT']].sample(5)"
   ]
  },
  {
   "attachments": {},
   "cell_type": "markdown",
   "metadata": {},
   "source": [
    "### Primary and secondary accounts engineering\n",
    "\n",
    "The loan data contains 14 columns providing information about any existing loans a customer may have. This data is split according to primary and secondary accounts. A primary account is a loan where the customer is the sole recipient of the disbursal. A secondary account is a one where the customer is a co-applicant or guarantor for the loan.\n",
    "\n",
    "- PRI_NO_OF_ACCTS: count of total loans taken by the customer at the time of disbursement  \n",
    "- PRI_ACTIVE_ACCTS: count of active loans taken by the customer at the time of disbursement\n",
    "- PRI_OVERDUE_ACCTS: count of default accounts at the time of disbursement    \n",
    "- PRI_CURRENT_BALANCE: total Principal outstanding amount of the active loans at the time of disbursement        \n",
    "- PRI_SANCTIONED_AMOUNT: total amount that was sanctioned for all the loans at the time of disbursement  \n",
    "- PRI_DISBURSED_AMOUNT: total amount that was disbursed for all the loans at the time of disbursement\n",
    "- PRIMARY_INSTAL_AMT: EMI Amount of the primary loan\n",
    "- SEC_NO_OF_ACCTS: count of secondary total loans taken by the customer at the time of disbursement \n",
    "- SEC_ACTIVE_ACCTS: count of secondary active loans taken by the customer at the time of disbursement \n",
    "- SEC_OVERDUE_ACCTS: count of secondary accounts at the time of disbursement    \n",
    "- SEC_CURRENT_BALANCE: total Principal outstanding amount of the secondary active loans at the time of disbursement \n",
    "- SEC_SANCTIONED_AMOUNT: total amount that was sanctioned for all the secondary loans at the time of disbursement  \n",
    "- SEC_DISBURSED_AMOUNT: total amount that was disbursed for all the secondary loans at the time of disbursement\n",
    "- SEC_INSTAL_AMT: EMI Amount of the secondary loan \n",
    "\n",
    "Let's combine these accounts to reduce the complexity of our data without losing information.\n",
    "\n",
    "I'll create a column \"TOTAL_ACCOUNTS\" to store the combined total of primary and secondary accounts."
   ]
  },
  {
   "cell_type": "code",
   "execution_count": 241,
   "metadata": {},
   "outputs": [],
   "source": [
    "# create a new column TOTAL_ACCOUNTS\n",
    "\n",
    "loan_df['TOTAL_ACCTS'] = loan_df['PRI_NO_OF_ACCTS'] + loan_df['SEC_NO_OF_ACCTS']"
   ]
  },
  {
   "cell_type": "code",
   "execution_count": 242,
   "metadata": {},
   "outputs": [
    {
     "data": {
      "text/html": [
       "<div>\n",
       "<style scoped>\n",
       "    .dataframe tbody tr th:only-of-type {\n",
       "        vertical-align: middle;\n",
       "    }\n",
       "\n",
       "    .dataframe tbody tr th {\n",
       "        vertical-align: top;\n",
       "    }\n",
       "\n",
       "    .dataframe thead th {\n",
       "        text-align: right;\n",
       "    }\n",
       "</style>\n",
       "<table border=\"1\" class=\"dataframe\">\n",
       "  <thead>\n",
       "    <tr style=\"text-align: right;\">\n",
       "      <th></th>\n",
       "      <th>TOTAL_ACCTS</th>\n",
       "      <th>PRI_NO_OF_ACCTS</th>\n",
       "      <th>SEC_NO_OF_ACCTS</th>\n",
       "    </tr>\n",
       "    <tr>\n",
       "      <th>UNIQUEID</th>\n",
       "      <th></th>\n",
       "      <th></th>\n",
       "      <th></th>\n",
       "    </tr>\n",
       "  </thead>\n",
       "  <tbody>\n",
       "    <tr>\n",
       "      <th>503673</th>\n",
       "      <td>0</td>\n",
       "      <td>0</td>\n",
       "      <td>0</td>\n",
       "    </tr>\n",
       "    <tr>\n",
       "      <th>433454</th>\n",
       "      <td>0</td>\n",
       "      <td>0</td>\n",
       "      <td>0</td>\n",
       "    </tr>\n",
       "    <tr>\n",
       "      <th>597976</th>\n",
       "      <td>1</td>\n",
       "      <td>1</td>\n",
       "      <td>0</td>\n",
       "    </tr>\n",
       "    <tr>\n",
       "      <th>517681</th>\n",
       "      <td>0</td>\n",
       "      <td>0</td>\n",
       "      <td>0</td>\n",
       "    </tr>\n",
       "    <tr>\n",
       "      <th>573077</th>\n",
       "      <td>0</td>\n",
       "      <td>0</td>\n",
       "      <td>0</td>\n",
       "    </tr>\n",
       "    <tr>\n",
       "      <th>588397</th>\n",
       "      <td>1</td>\n",
       "      <td>1</td>\n",
       "      <td>0</td>\n",
       "    </tr>\n",
       "    <tr>\n",
       "      <th>517888</th>\n",
       "      <td>0</td>\n",
       "      <td>0</td>\n",
       "      <td>0</td>\n",
       "    </tr>\n",
       "    <tr>\n",
       "      <th>459938</th>\n",
       "      <td>0</td>\n",
       "      <td>0</td>\n",
       "      <td>0</td>\n",
       "    </tr>\n",
       "    <tr>\n",
       "      <th>436163</th>\n",
       "      <td>0</td>\n",
       "      <td>0</td>\n",
       "      <td>0</td>\n",
       "    </tr>\n",
       "    <tr>\n",
       "      <th>532803</th>\n",
       "      <td>0</td>\n",
       "      <td>0</td>\n",
       "      <td>0</td>\n",
       "    </tr>\n",
       "  </tbody>\n",
       "</table>\n",
       "</div>"
      ],
      "text/plain": [
       "          TOTAL_ACCTS  PRI_NO_OF_ACCTS  SEC_NO_OF_ACCTS\n",
       "UNIQUEID                                               \n",
       "503673              0                0                0\n",
       "433454              0                0                0\n",
       "597976              1                1                0\n",
       "517681              0                0                0\n",
       "573077              0                0                0\n",
       "588397              1                1                0\n",
       "517888              0                0                0\n",
       "459938              0                0                0\n",
       "436163              0                0                0\n",
       "532803              0                0                0"
      ]
     },
     "execution_count": 242,
     "metadata": {},
     "output_type": "execute_result"
    }
   ],
   "source": [
    "# let's take a look at the result\n",
    "\n",
    "loan_df[['TOTAL_ACCTS', 'PRI_NO_OF_ACCTS', 'SEC_NO_OF_ACCTS']].sample(10)"
   ]
  },
  {
   "attachments": {},
   "cell_type": "markdown",
   "metadata": {},
   "source": [
    "Ok let's now use the above example to create TOTAL_account_columns from the remaining primary/secondary variables"
   ]
  },
  {
   "cell_type": "code",
   "execution_count": 243,
   "metadata": {},
   "outputs": [],
   "source": [
    "loan_df['TOTAL_ACTIVE_ACCTS'] = loan_df['PRI_ACTIVE_ACCTS'] + loan_df['SEC_ACTIVE_ACCTS']\n",
    "loan_df['TOTAL_OVERDUE_ACCTS'] = loan_df['PRI_OVERDUE_ACCTS'] + loan_df['SEC_OVERDUE_ACCTS']\n",
    "loan_df['TOTAL_CURRENT_BALANCE'] = loan_df['PRI_CURRENT_BALANCE'] + loan_df['SEC_CURRENT_BALANCE']\n",
    "loan_df['TOTAL_SANCTIONED_AMOUNT'] = loan_df['PRI_SANCTIONED_AMOUNT'] + loan_df['SEC_SANCTIONED_AMOUNT'] \n",
    "loan_df['TOTAL_DISBURSED_AMOUNT'] = loan_df['PRI_DISBURSED_AMOUNT'] + loan_df['SEC_DISBURSED_AMOUNT']\n",
    "loan_df['TOTAL_INSTAL_AMT'] = loan_df['PRIMARY_INSTAL_AMT'] + loan_df['SEC_INSTAL_AMT']"
   ]
  },
  {
   "attachments": {},
   "cell_type": "markdown",
   "metadata": {},
   "source": [
    "Now, I'll drop the ones I no longer need."
   ]
  },
  {
   "cell_type": "code",
   "execution_count": 244,
   "metadata": {},
   "outputs": [],
   "source": [
    "drop_cols = ['PRI_NO_OF_ACCTS', 'PRI_ACTIVE_ACCTS', 'PRI_OVERDUE_ACCTS', 'PRI_CURRENT_BALANCE', 'PRI_SANCTIONED_AMOUNT', 'PRI_DISBURSED_AMOUNT', 'PRIMARY_INSTAL_AMT', 'SEC_NO_OF_ACCTS', 'SEC_ACTIVE_ACCTS', 'SEC_OVERDUE_ACCTS', 'SEC_CURRENT_BALANCE', 'SEC_SANCTIONED_AMOUNT', 'SEC_DISBURSED_AMOUNT', 'SEC_INSTAL_AMT']\n",
    "\n",
    "loan_df = loan_df.drop(drop_cols, axis=1)"
   ]
  },
  {
   "attachments": {},
   "cell_type": "markdown",
   "metadata": {},
   "source": [
    "I'm also interested in calculating the percentage of overdue accounts a person has and store the result as the percentage of overdue accounts."
   ]
  },
  {
   "cell_type": "code",
   "execution_count": 245,
   "metadata": {},
   "outputs": [],
   "source": [
    "# create a column 'OVERDUE_PCT'\n",
    "\n",
    "loan_df['OVERDUE_PCT'] = loan_df['TOTAL_OVERDUE_ACCTS'] / loan_df['TOTAL_ACCTS']"
   ]
  },
  {
   "cell_type": "code",
   "execution_count": 246,
   "metadata": {},
   "outputs": [
    {
     "data": {
      "text/plain": [
       "115792"
      ]
     },
     "execution_count": 246,
     "metadata": {},
     "output_type": "execute_result"
    }
   ],
   "source": [
    "# let's check if there is any missing values\n",
    "\n",
    "loan_df['OVERDUE_PCT'].isnull().sum()"
   ]
  },
  {
   "attachments": {},
   "cell_type": "markdown",
   "metadata": {},
   "source": [
    "I have a lot of missing values. I'll fill them with 0s."
   ]
  },
  {
   "cell_type": "code",
   "execution_count": 247,
   "metadata": {},
   "outputs": [],
   "source": [
    "loan_df['OVERDUE_PCT'] = loan_df['OVERDUE_PCT'].fillna(0)"
   ]
  },
  {
   "cell_type": "code",
   "execution_count": 248,
   "metadata": {},
   "outputs": [
    {
     "data": {
      "text/plain": [
       "0"
      ]
     },
     "execution_count": 248,
     "metadata": {},
     "output_type": "execute_result"
    }
   ],
   "source": [
    "# let's verify we no longer have missing values\n",
    "\n",
    "loan_df['OVERDUE_PCT'].isnull().sum()"
   ]
  },
  {
   "attachments": {},
   "cell_type": "markdown",
   "metadata": {},
   "source": [
    "Great, the OVERDUE_PCT column no longer has any missing values."
   ]
  },
  {
   "cell_type": "code",
   "execution_count": 249,
   "metadata": {},
   "outputs": [
    {
     "name": "stdout",
     "output_type": "stream",
     "text": [
      "<class 'pandas.core.frame.DataFrame'>\n",
      "Int64Index: 233154 entries, 420825 to 630213\n",
      "Data columns (total 30 columns):\n",
      " #   Column                               Non-Null Count   Dtype   \n",
      "---  ------                               --------------   -----   \n",
      " 0   DISBURSED_AMOUNT                     233154 non-null  int64   \n",
      " 1   ASSET_COST                           233154 non-null  int64   \n",
      " 2   LTV                                  233154 non-null  float64 \n",
      " 3   MANUFACTURER_ID                      233154 non-null  int64   \n",
      " 4   EMPLOYMENT_TYPE                      233154 non-null  object  \n",
      " 5   STATE_ID                             233154 non-null  int64   \n",
      " 6   AADHAR_FLAG                          233154 non-null  int64   \n",
      " 7   PAN_FLAG                             233154 non-null  int64   \n",
      " 8   VOTERID_FLAG                         233154 non-null  int64   \n",
      " 9   DRIVING_FLAG                         233154 non-null  int64   \n",
      " 10  PASSPORT_FLAG                        233154 non-null  int64   \n",
      " 11  PERFORM_CNS_SCORE                    233154 non-null  int64   \n",
      " 12  PERFORM_CNS_SCORE_DESCRIPTION        233154 non-null  object  \n",
      " 13  NEW_ACCTS_IN_LAST_SIX_MONTHS         233154 non-null  int64   \n",
      " 14  DELINQUENT_ACCTS_IN_LAST_SIX_MONTHS  233154 non-null  int64   \n",
      " 15  NO_OF_INQUIRIES                      233154 non-null  int64   \n",
      " 16  LOAN_DEFAULT                         233154 non-null  int64   \n",
      " 17  AGE                                  233154 non-null  int64   \n",
      " 18  AVERAGE_ACCT_AGE_MONTHS              233154 non-null  int64   \n",
      " 19  CREDIT_HISTORY_LENGTH_MONTHS         233154 non-null  int64   \n",
      " 20  DISBURSED_CAT                        233154 non-null  category\n",
      " 21  DISBURSAL_DIFFERENCE                 233154 non-null  int64   \n",
      " 22  TOTAL_ACCTS                          233154 non-null  int64   \n",
      " 23  TOTAL_ACTIVE_ACCTS                   233154 non-null  int64   \n",
      " 24  TOTAL_OVERDUE_ACCTS                  233154 non-null  int64   \n",
      " 25  TOTAL_CURRENT_BALANCE                233154 non-null  int64   \n",
      " 26  TOTAL_SANCTIONED_AMOUNT              233154 non-null  int64   \n",
      " 27  TOTAL_DISBURSED_AMOUNT               233154 non-null  int64   \n",
      " 28  TOTAL_INSTAL_AMT                     233154 non-null  int64   \n",
      " 29  OVERDUE_PCT                          233154 non-null  float64 \n",
      "dtypes: category(1), float64(2), int64(25), object(2)\n",
      "memory usage: 61.6+ MB\n"
     ]
    }
   ],
   "source": [
    "# let's check the information we now have\n",
    "\n",
    "loan_df.info()"
   ]
  },
  {
   "attachments": {},
   "cell_type": "markdown",
   "metadata": {},
   "source": [
    "Nice, I have reduced my number of columns to 30, and added the OVERDUE_PCT column."
   ]
  },
  {
   "attachments": {},
   "cell_type": "markdown",
   "metadata": {},
   "source": [
    "### Scaling\n",
    "\n",
    "I'll use min max scaling to bring my continuous variables into the same range. I noticed that the data have larger outliers."
   ]
  },
  {
   "cell_type": "code",
   "execution_count": 250,
   "metadata": {},
   "outputs": [],
   "source": [
    "# let's create a list of continuous columns\n",
    "\n",
    "numeric_cols = ['DISBURSED_AMOUNT', \n",
    "                'ASSET_COST', \n",
    "                'LTV', \n",
    "                'NEW_ACCTS_IN_LAST_SIX_MONTHS', \n",
    "                'DELINQUENT_ACCTS_IN_LAST_SIX_MONTHS', \n",
    "                'NO_OF_INQUIRIES', \n",
    "                'AGE', \n",
    "                'AVERAGE_ACCT_AGE_MONTHS', \n",
    "                'CREDIT_HISTORY_LENGTH_MONTHS',\n",
    "                'PERFORM_CNS_SCORE',\n",
    "                'TOTAL_ACCTS',\n",
    "                'TOTAL_ACTIVE_ACCTS',\n",
    "                'TOTAL_OVERDUE_ACCTS',\n",
    "                'TOTAL_CURRENT_BALANCE', \n",
    "                'TOTAL_SANCTIONED_AMOUNT', \n",
    "                'TOTAL_DISBURSED_AMOUNT', \n",
    "                'TOTAL_INSTAL_AMT', \n",
    "                'OVERDUE_PCT', \n",
    "                'DISBURSAL_DIFFERENCE']"
   ]
  },
  {
   "cell_type": "code",
   "execution_count": 251,
   "metadata": {},
   "outputs": [
    {
     "data": {
      "image/png": "[encoded data removed]",
      "text/plain": [
       "<Figure size 640x480 with 1 Axes>"
      ]
     },
     "metadata": {},
     "output_type": "display_data"
    }
   ],
   "source": [
    "# plot numeric_cols\n",
    "\n",
    "loan_df[['LTV', 'ASSET_COST', 'AGE']].boxplot()\n",
    "plt.title('Prior to Scaling')\n",
    "plt.show()"
   ]
  },
  {
   "attachments": {},
   "cell_type": "markdown",
   "metadata": {},
   "source": [
    "The numeric values are distributed across very different scales. Let's fix this problem using Min Max Scaling."
   ]
  },
  {
   "cell_type": "code",
   "execution_count": 252,
   "metadata": {},
   "outputs": [],
   "source": [
    "mm_scaler = MinMaxScaler()"
   ]
  },
  {
   "cell_type": "code",
   "execution_count": 253,
   "metadata": {},
   "outputs": [],
   "source": [
    "loan_df[numeric_cols] = mm_scaler.fit_transform(loan_df[numeric_cols])"
   ]
  },
  {
   "cell_type": "code",
   "execution_count": 254,
   "metadata": {},
   "outputs": [
    {
     "data": {
      "image/png": "[encoded data removed]",
      "text/plain": [
       "<Figure size 640x480 with 1 Axes>"
      ]
     },
     "metadata": {},
     "output_type": "display_data"
    }
   ],
   "source": [
    "loan_df[['LTV', 'ASSET_COST', 'AGE']].boxplot()\n",
    "plt.title('After Scaling')\n",
    "plt.show()"
   ]
  },
  {
   "cell_type": "markdown",
   "metadata": {},
   "source": [
    "Now, all the values are ranged between 1 and 0"
   ]
  },
  {
   "cell_type": "code",
   "execution_count": 255,
   "metadata": {},
   "outputs": [],
   "source": [
    "#save cleaned data\n",
    "\n",
    "loan_df.to_csv(r'C:\\Users\\Joseph\\OneDrive\\Documents\\CFI\\Loan Default Prediction With Machine Learning\\data\\new_data\\data\\vehicle_loans_feat_1.csv')"
   ]
  }
 ],
 "metadata": {
  "kernelspec": {
   "display_name": "Python 3",
   "language": "python",
   "name": "python3"
  },
  "language_info": {
   "codemirror_mode": {
    "name": "ipython",
    "version": 3
   },
   "file_extension": ".py",
   "mimetype": "text/x-python",
   "name": "python",
   "nbconvert_exporter": "python",
   "pygments_lexer": "ipython3",
   "version": "3.9.13"
  },
  "orig_nbformat": 4,
  "vscode": {
   "interpreter": {
    "hash": "9d169d332d065b6e1de73db6cbcb579de97748cc585a1dc5240526c02288e400"
   }
  }
 },
 "nbformat": 4,
 "nbformat_minor": 2
}
